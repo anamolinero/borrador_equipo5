{
 "cells": [
  {
   "cell_type": "markdown",
   "metadata": {},
   "source": [
    "15. joblevel = : Nivel jerárquico del puesto del empleado\n",
    "    - Vemos que se duplican el código del nivel del puesto con el role al momento de definirlo \n",
    "    Definiría un código diferente para cada role, siendo la leyenda del 1 al 5:\n",
    "         1 = laboratory technician ,  research scientist , sales representative\n",
    "         2 = human resources ,  sales executive \n",
    "         3 =  healthcare representative\n",
    "         4 =  manufacturing director,  research director  \n",
    "         5 = manager\n",
    "\n",
    "Reagrupar por estas leyendas a todos los que están relacionados con los de la siguiente columna jobrole, que ahora los códigos no corresponden con su role\n",
    " - Ya es un INT no hace falta cambiarlo de type\n",
    "\n",
    "16. jobrole = Función o rol específico del empleado.\n",
    "\n",
    "  - Cambiar todo a minúscula\n",
    "  - Ya es un object no hace falta cambiar el type\n",
    "\n",
    "17. jobsatisfaction = Satisfacción general en el puesto.\n",
    "  - Hace falta especificar con una leyenda si 1 es muy satisfecho y 4 es nada satisfecho? o cuál es el orden de satisfacción?\n",
    "  - No hace falta cambiar el type porque ya es un INT\n",
    "\n",
    "18. maritalstatus =  Estado civil (e.g., Single, Married).\n",
    "  -  Eliminar los errores ortotipográficos, lo hemos hecho con este código:\n",
    "   df[\"maritalstatus\"] = df[\"maritalstatus\"].replace({\"marreid\": \"married\"}) \n",
    "  - Hay valores únicos vacíos que los vamos a reemplazar por None para poder visualizarlos en SQL\n",
    "  - Ahora es object no hay que cambiar el type\n",
    "\n",
    "19. monthlyincome = Ingreso mensual estimado en base al salario anual.\n",
    "  - Eliminar el simbolo del $ e incluirlos solo en el nombre de la columna: monthlyincome ($)\n",
    "  - Eliminar la segunda columna \"same as monthly income\" que tiene los mismo valores\n",
    "  - Hay valores únicos vacíos que los vamos a reemplazar por None para poder visualizarlos en SQL\n",
    "  - Cambiar a Float ahora es un object\n",
    "\n",
    "20. monthlyrate = Tarifa mensual estimada en función de la tarifa diaria.\n",
    "  - Eliminar el simbolo del $ e incluirlos solo en el nombre de la columna: monthlyrate ($)\n",
    "  - Cambiar a Float ahora es un object\n",
    "  \n",
    "21. numcompaniesworked = Número de empresas previas en las que ha trabajado.\n",
    "  - No hay ningún cambio que hacer\n",
    "  - Ya es un INT\n",
    "\n",
    "22. over18 = No aparece en la leyenda\n",
    "  - Eliminar\n",
    "\n",
    "23. overtime =  Indica si el empleado trabaja horas extras (Yes/No).\n",
    "  - Cambiar las celdas vacías NaN por None\n",
    "  - Ya es de tipo object\n",
    "\n",
    "24. percentsalaryhike = Incremento porcentual en el salario.\n",
    "  - Incluirle el simbolo de % en el nombre de la columna: percentsalaryhike (%)\n",
    "  - Ya es INT\n",
    "\n",
    "25. performancerating = Evaluación de desempeño en una escala numérica.\n",
    "  - Cambiar las celdas vacías por None\n",
    "  - Solo tenemos 3 y 4 como puntaje de evaluación del desempeño, podríamos definir una leyenda para saber su significado? \n",
    "  ej. 3 = Notable\n",
    "      4 = Destacado\n",
    "\n",
    "  - Cambiar a INT ahora es object\n",
    "\n",
    "26. relationshipsatisfaction = Satisfacción con relaciones interpersonales en el trabajo.\n",
    "  - No haría ningún cambio, quizás solo ponerle una leyenda pero no tenemos el dato de la escala de valoración\n",
    "\n",
    "27. standardhours = Clasificación de jornada (Full Time/Part Time).\n",
    "  - Hay valores únicos vacíos que los vamos a reemplazar por None para poder visualizarlos en SQL\n",
    "  - Cambiar todo a minúsculas\n",
    "  - El dato ya es un object\n",
    "\n",
    "28. stockoptionlevel = Nivel de opciones sobre acciones asignadas.\n",
    "  - No le haría ningún cambio y ya es un INT"
   ]
  },
  {
   "cell_type": "markdown",
   "metadata": {},
   "source": []
  },
  {
   "cell_type": "markdown",
   "metadata": {},
   "source": []
  },
  {
   "cell_type": "markdown",
   "metadata": {},
   "source": []
  },
  {
   "cell_type": "markdown",
   "metadata": {},
   "source": []
  },
  {
   "cell_type": "markdown",
   "metadata": {},
   "source": []
  }
 ],
 "metadata": {
  "language_info": {
   "name": "python"
  }
 },
 "nbformat": 4,
 "nbformat_minor": 2
}
