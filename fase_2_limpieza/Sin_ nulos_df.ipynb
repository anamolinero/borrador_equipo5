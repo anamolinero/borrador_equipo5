{
 "cells": [
  {
   "cell_type": "code",
   "execution_count": 1,
   "metadata": {},
   "outputs": [],
   "source": [
    "# importamos las librerías que necesitamos\n",
    "\n",
    "# Tratamiento de datos\n",
    "# -----------------------------------------------------------------------\n",
    "import pandas as pd\n",
    "import numpy as np\n",
    "\n",
    "# Imputación de nulos usando métodos avanzados estadísticos\n",
    "# -----------------------------------------------------------------------\n",
    "from sklearn.impute import SimpleImputer\n",
    "from sklearn.experimental import enable_iterative_imputer\n",
    "from sklearn.impute import IterativeImputer\n",
    "from sklearn.impute import KNNImputer\n",
    "\n",
    "# Librerías de visualización\n",
    "# -----------------------------------------------------------------------\n",
    "import seaborn as sns\n",
    "import matplotlib.pyplot as plt\n",
    "# Configuración\n",
    "# -----------------------------------------------------------------------\n",
    "pd.set_option('display.max_columns', None) # para poder visualizar todas las columnas de los DataFrames"
   ]
  },
  {
   "cell_type": "code",
   "execution_count": 2,
   "metadata": {},
   "outputs": [
    {
     "data": {
      "text/html": [
       "<div>\n",
       "<style scoped>\n",
       "    .dataframe tbody tr th:only-of-type {\n",
       "        vertical-align: middle;\n",
       "    }\n",
       "\n",
       "    .dataframe tbody tr th {\n",
       "        vertical-align: top;\n",
       "    }\n",
       "\n",
       "    .dataframe thead th {\n",
       "        text-align: right;\n",
       "    }\n",
       "</style>\n",
       "<table border=\"1\" class=\"dataframe\">\n",
       "  <thead>\n",
       "    <tr style=\"text-align: right;\">\n",
       "      <th></th>\n",
       "      <th>employee_id</th>\n",
       "      <th>age</th>\n",
       "      <th>attrition</th>\n",
       "      <th>businesstravel</th>\n",
       "      <th>$_dailyrate</th>\n",
       "      <th>department</th>\n",
       "      <th>distancefromhome</th>\n",
       "      <th>education</th>\n",
       "      <th>educationfield</th>\n",
       "      <th>environmentsatisfaction</th>\n",
       "      <th>gender</th>\n",
       "      <th>$_hourlyrate</th>\n",
       "      <th>jobinvolvement</th>\n",
       "      <th>joblevel</th>\n",
       "      <th>jobrole</th>\n",
       "      <th>jobsatisfaction</th>\n",
       "      <th>maritalstatus</th>\n",
       "      <th>$_monthlyincome</th>\n",
       "      <th>$_monthlyrate</th>\n",
       "      <th>numcompaniesworked</th>\n",
       "      <th>overtime</th>\n",
       "      <th>%_percentsalaryhike</th>\n",
       "      <th>performancerating</th>\n",
       "      <th>relationshipsatisfaction</th>\n",
       "      <th>standardhours</th>\n",
       "      <th>stockoptionlevel</th>\n",
       "      <th>totalworkingyears</th>\n",
       "      <th>trainingtimeslastyear</th>\n",
       "      <th>worklifebalance</th>\n",
       "      <th>yearsatcompany</th>\n",
       "      <th>yearsincurrentrole</th>\n",
       "      <th>yearssincelastpromotion</th>\n",
       "      <th>yearswithcurrmanager</th>\n",
       "      <th>datebirth</th>\n",
       "      <th>$_salary</th>\n",
       "      <th>remotework</th>\n",
       "    </tr>\n",
       "  </thead>\n",
       "  <tbody>\n",
       "    <tr>\n",
       "      <th>349</th>\n",
       "      <td>350</td>\n",
       "      <td>45</td>\n",
       "      <td>No</td>\n",
       "      <td>travel_rarely</td>\n",
       "      <td>684.25</td>\n",
       "      <td>NaN</td>\n",
       "      <td>2</td>\n",
       "      <td>2</td>\n",
       "      <td>NaN</td>\n",
       "      <td>2</td>\n",
       "      <td>male</td>\n",
       "      <td>NaN</td>\n",
       "      <td>1</td>\n",
       "      <td>2</td>\n",
       "      <td>sales representative</td>\n",
       "      <td>3</td>\n",
       "      <td>single</td>\n",
       "      <td>5526.67</td>\n",
       "      <td>14369.33</td>\n",
       "      <td>0</td>\n",
       "      <td>no</td>\n",
       "      <td>13</td>\n",
       "      <td>3.0</td>\n",
       "      <td>1</td>\n",
       "      <td>full time</td>\n",
       "      <td>0</td>\n",
       "      <td>9.0</td>\n",
       "      <td>3</td>\n",
       "      <td>3.0</td>\n",
       "      <td>8</td>\n",
       "      <td>NaN</td>\n",
       "      <td>3</td>\n",
       "      <td>1</td>\n",
       "      <td>1978</td>\n",
       "      <td>66320.0</td>\n",
       "      <td>yes</td>\n",
       "    </tr>\n",
       "    <tr>\n",
       "      <th>933</th>\n",
       "      <td>934</td>\n",
       "      <td>47</td>\n",
       "      <td>No</td>\n",
       "      <td>travel_frequently</td>\n",
       "      <td>1420.71</td>\n",
       "      <td>NaN</td>\n",
       "      <td>3</td>\n",
       "      <td>3</td>\n",
       "      <td>NaN</td>\n",
       "      <td>4</td>\n",
       "      <td>female</td>\n",
       "      <td>NaN</td>\n",
       "      <td>3</td>\n",
       "      <td>4</td>\n",
       "      <td>sales executive</td>\n",
       "      <td>3</td>\n",
       "      <td>divorced</td>\n",
       "      <td>11475.00</td>\n",
       "      <td>29835.00</td>\n",
       "      <td>9</td>\n",
       "      <td>yes</td>\n",
       "      <td>12</td>\n",
       "      <td>3.0</td>\n",
       "      <td>4</td>\n",
       "      <td>full time</td>\n",
       "      <td>2</td>\n",
       "      <td>28.0</td>\n",
       "      <td>2</td>\n",
       "      <td>2.0</td>\n",
       "      <td>22</td>\n",
       "      <td>NaN</td>\n",
       "      <td>11</td>\n",
       "      <td>13</td>\n",
       "      <td>1976</td>\n",
       "      <td>137700.0</td>\n",
       "      <td>yes</td>\n",
       "    </tr>\n",
       "    <tr>\n",
       "      <th>525</th>\n",
       "      <td>526</td>\n",
       "      <td>36</td>\n",
       "      <td>No</td>\n",
       "      <td>non_travel</td>\n",
       "      <td>670.53</td>\n",
       "      <td>NaN</td>\n",
       "      <td>11</td>\n",
       "      <td>3</td>\n",
       "      <td>NaN</td>\n",
       "      <td>2</td>\n",
       "      <td>male</td>\n",
       "      <td>83.82</td>\n",
       "      <td>2</td>\n",
       "      <td>2</td>\n",
       "      <td>manufacturing director</td>\n",
       "      <td>2</td>\n",
       "      <td>single</td>\n",
       "      <td>5415.83</td>\n",
       "      <td>14081.17</td>\n",
       "      <td>1</td>\n",
       "      <td>no</td>\n",
       "      <td>13</td>\n",
       "      <td>3.0</td>\n",
       "      <td>3</td>\n",
       "      <td>full time</td>\n",
       "      <td>0</td>\n",
       "      <td>6.0</td>\n",
       "      <td>3</td>\n",
       "      <td>3.0</td>\n",
       "      <td>6</td>\n",
       "      <td>NaN</td>\n",
       "      <td>0</td>\n",
       "      <td>3</td>\n",
       "      <td>1987</td>\n",
       "      <td>64990.0</td>\n",
       "      <td>yes</td>\n",
       "    </tr>\n",
       "    <tr>\n",
       "      <th>1550</th>\n",
       "      <td>1551</td>\n",
       "      <td>32</td>\n",
       "      <td>No</td>\n",
       "      <td>non_travel</td>\n",
       "      <td>521.55</td>\n",
       "      <td>NaN</td>\n",
       "      <td>2</td>\n",
       "      <td>4</td>\n",
       "      <td>medical</td>\n",
       "      <td>1</td>\n",
       "      <td>female</td>\n",
       "      <td>65.19</td>\n",
       "      <td>4</td>\n",
       "      <td>2</td>\n",
       "      <td>research scientist</td>\n",
       "      <td>4</td>\n",
       "      <td>single</td>\n",
       "      <td>NaN</td>\n",
       "      <td>10952.50</td>\n",
       "      <td>7</td>\n",
       "      <td>NaN</td>\n",
       "      <td>16</td>\n",
       "      <td>3.0</td>\n",
       "      <td>3</td>\n",
       "      <td>part time</td>\n",
       "      <td>0</td>\n",
       "      <td>NaN</td>\n",
       "      <td>0</td>\n",
       "      <td>2.0</td>\n",
       "      <td>7</td>\n",
       "      <td>NaN</td>\n",
       "      <td>0</td>\n",
       "      <td>7</td>\n",
       "      <td>1991</td>\n",
       "      <td>50550.0</td>\n",
       "      <td>no</td>\n",
       "    </tr>\n",
       "  </tbody>\n",
       "</table>\n",
       "</div>"
      ],
      "text/plain": [
       "      employee_id  age attrition     businesstravel  $_dailyrate department  \\\n",
       "349           350   45        No      travel_rarely       684.25        NaN   \n",
       "933           934   47        No  travel_frequently      1420.71        NaN   \n",
       "525           526   36        No         non_travel       670.53        NaN   \n",
       "1550         1551   32        No         non_travel       521.55        NaN   \n",
       "\n",
       "      distancefromhome  education educationfield  environmentsatisfaction  \\\n",
       "349                  2          2            NaN                        2   \n",
       "933                  3          3            NaN                        4   \n",
       "525                 11          3            NaN                        2   \n",
       "1550                 2          4        medical                        1   \n",
       "\n",
       "      gender  $_hourlyrate  jobinvolvement  joblevel  \\\n",
       "349     male           NaN               1         2   \n",
       "933   female           NaN               3         4   \n",
       "525     male         83.82               2         2   \n",
       "1550  female         65.19               4         2   \n",
       "\n",
       "                       jobrole  jobsatisfaction maritalstatus  \\\n",
       "349      sales representative                 3        single   \n",
       "933           sales executive                 3      divorced   \n",
       "525    manufacturing director                 2        single   \n",
       "1550       research scientist                 4        single   \n",
       "\n",
       "      $_monthlyincome  $_monthlyrate  numcompaniesworked overtime  \\\n",
       "349           5526.67       14369.33                   0       no   \n",
       "933          11475.00       29835.00                   9      yes   \n",
       "525           5415.83       14081.17                   1       no   \n",
       "1550              NaN       10952.50                   7      NaN   \n",
       "\n",
       "      %_percentsalaryhike  performancerating  relationshipsatisfaction  \\\n",
       "349                    13                3.0                         1   \n",
       "933                    12                3.0                         4   \n",
       "525                    13                3.0                         3   \n",
       "1550                   16                3.0                         3   \n",
       "\n",
       "     standardhours  stockoptionlevel  totalworkingyears  \\\n",
       "349      full time                 0                9.0   \n",
       "933      full time                 2               28.0   \n",
       "525      full time                 0                6.0   \n",
       "1550     part time                 0                NaN   \n",
       "\n",
       "      trainingtimeslastyear  worklifebalance  yearsatcompany  \\\n",
       "349                       3              3.0               8   \n",
       "933                       2              2.0              22   \n",
       "525                       3              3.0               6   \n",
       "1550                      0              2.0               7   \n",
       "\n",
       "      yearsincurrentrole  yearssincelastpromotion  yearswithcurrmanager  \\\n",
       "349                  NaN                        3                     1   \n",
       "933                  NaN                       11                    13   \n",
       "525                  NaN                        0                     3   \n",
       "1550                 NaN                        0                     7   \n",
       "\n",
       "      datebirth  $_salary remotework  \n",
       "349        1978   66320.0        yes  \n",
       "933        1976  137700.0        yes  \n",
       "525        1987   64990.0        yes  \n",
       "1550       1991   50550.0         no  "
      ]
     },
     "execution_count": 2,
     "metadata": {},
     "output_type": "execute_result"
    }
   ],
   "source": [
    "df = pd.read_csv(\"df_limpieza2.csv\")\n",
    "df.sample(4)"
   ]
  },
  {
   "cell_type": "markdown",
   "metadata": {},
   "source": [
    "1. Identificar y contabilizar los nulos en las columnas"
   ]
  },
  {
   "cell_type": "code",
   "execution_count": 3,
   "metadata": {},
   "outputs": [
    {
     "data": {
      "text/plain": [
       "employee_id                    0\n",
       "age                            0\n",
       "attrition                      0\n",
       "businesstravel                 0\n",
       "$_dailyrate                    0\n",
       "department                  1312\n",
       "distancefromhome               0\n",
       "education                      0\n",
       "educationfield               745\n",
       "environmentsatisfaction        0\n",
       "gender                         0\n",
       "$_hourlyrate                1210\n",
       "jobinvolvement                 0\n",
       "joblevel                       0\n",
       "jobrole                        0\n",
       "jobsatisfaction                0\n",
       "maritalstatus                651\n",
       "$_monthlyincome              468\n",
       "$_monthlyrate                  0\n",
       "numcompaniesworked             0\n",
       "overtime                     676\n",
       "%_percentsalaryhike            0\n",
       "performancerating            195\n",
       "relationshipsatisfaction       0\n",
       "standardhours                338\n",
       "stockoptionlevel               0\n",
       "totalworkingyears            526\n",
       "trainingtimeslastyear          0\n",
       "worklifebalance              108\n",
       "yearsatcompany                 0\n",
       "yearsincurrentrole          1580\n",
       "yearssincelastpromotion        0\n",
       "yearswithcurrmanager           0\n",
       "datebirth                      0\n",
       "$_salary                     274\n",
       "remotework                     0\n",
       "dtype: int64"
      ]
     },
     "execution_count": 3,
     "metadata": {},
     "output_type": "execute_result"
    }
   ],
   "source": [
    "colum_nulos = df.isnull().sum() \n",
    "colum_nulos"
   ]
  },
  {
   "cell_type": "code",
   "execution_count": 4,
   "metadata": {},
   "outputs": [
    {
     "data": {
      "text/html": [
       "<div>\n",
       "<style scoped>\n",
       "    .dataframe tbody tr th:only-of-type {\n",
       "        vertical-align: middle;\n",
       "    }\n",
       "\n",
       "    .dataframe tbody tr th {\n",
       "        vertical-align: top;\n",
       "    }\n",
       "\n",
       "    .dataframe thead th {\n",
       "        text-align: right;\n",
       "    }\n",
       "</style>\n",
       "<table border=\"1\" class=\"dataframe\">\n",
       "  <thead>\n",
       "    <tr style=\"text-align: right;\">\n",
       "      <th></th>\n",
       "      <th>cantidad_nulos</th>\n",
       "    </tr>\n",
       "  </thead>\n",
       "  <tbody>\n",
       "    <tr>\n",
       "      <th>department</th>\n",
       "      <td>1312</td>\n",
       "    </tr>\n",
       "    <tr>\n",
       "      <th>educationfield</th>\n",
       "      <td>745</td>\n",
       "    </tr>\n",
       "    <tr>\n",
       "      <th>$_hourlyrate</th>\n",
       "      <td>1210</td>\n",
       "    </tr>\n",
       "    <tr>\n",
       "      <th>maritalstatus</th>\n",
       "      <td>651</td>\n",
       "    </tr>\n",
       "    <tr>\n",
       "      <th>$_monthlyincome</th>\n",
       "      <td>468</td>\n",
       "    </tr>\n",
       "    <tr>\n",
       "      <th>overtime</th>\n",
       "      <td>676</td>\n",
       "    </tr>\n",
       "    <tr>\n",
       "      <th>performancerating</th>\n",
       "      <td>195</td>\n",
       "    </tr>\n",
       "    <tr>\n",
       "      <th>standardhours</th>\n",
       "      <td>338</td>\n",
       "    </tr>\n",
       "    <tr>\n",
       "      <th>totalworkingyears</th>\n",
       "      <td>526</td>\n",
       "    </tr>\n",
       "    <tr>\n",
       "      <th>worklifebalance</th>\n",
       "      <td>108</td>\n",
       "    </tr>\n",
       "    <tr>\n",
       "      <th>yearsincurrentrole</th>\n",
       "      <td>1580</td>\n",
       "    </tr>\n",
       "    <tr>\n",
       "      <th>$_salary</th>\n",
       "      <td>274</td>\n",
       "    </tr>\n",
       "  </tbody>\n",
       "</table>\n",
       "</div>"
      ],
      "text/plain": [
       "                    cantidad_nulos\n",
       "department                    1312\n",
       "educationfield                 745\n",
       "$_hourlyrate                  1210\n",
       "maritalstatus                  651\n",
       "$_monthlyincome                468\n",
       "overtime                       676\n",
       "performancerating              195\n",
       "standardhours                  338\n",
       "totalworkingyears              526\n",
       "worklifebalance                108\n",
       "yearsincurrentrole            1580\n",
       "$_salary                       274"
      ]
     },
     "execution_count": 4,
     "metadata": {},
     "output_type": "execute_result"
    }
   ],
   "source": [
    "df_nulos = pd.DataFrame(colum_nulos, columns = [\"cantidad_nulos\"])\n",
    "\n",
    "df_nulos[df_nulos[\"cantidad_nulos\"] > 0]"
   ]
  },
  {
   "cell_type": "markdown",
   "metadata": {},
   "source": [
    "3. Identificar columnas categoricas."
   ]
  },
  {
   "cell_type": "code",
   "execution_count": 5,
   "metadata": {},
   "outputs": [
    {
     "name": "stdout",
     "output_type": "stream",
     "text": [
      "Las columnas categóricas que tienen nulos son : \n",
      " \n",
      "Index(['department', 'educationfield', 'maritalstatus', 'overtime',\n",
      "       'standardhours'],\n",
      "      dtype='object')\n"
     ]
    }
   ],
   "source": [
    "# Obtenemos la lista de columnas categóricas que tienen nulos\n",
    "nulos_esta_cat = df[df.columns[df.isnull().any()]].select_dtypes(include = \"O\").columns\n",
    "print(\"Las columnas categóricas que tienen nulos son : \\n \")\n",
    "print(nulos_esta_cat)"
   ]
  },
  {
   "cell_type": "markdown",
   "metadata": {},
   "source": [
    "4. Identificar los valores que dominan en una fila categorica."
   ]
  },
  {
   "cell_type": "code",
   "execution_count": 6,
   "metadata": {},
   "outputs": [
    {
     "name": "stdout",
     "output_type": "stream",
     "text": [
      "La distribución de las categorías para la columna DEPARTMENT\n"
     ]
    },
    {
     "data": {
      "text/plain": [
       "department\n",
       "research & development     0.121437\n",
       "sales                      0.056382\n",
       "human resources            0.009294\n",
       "Name: count, dtype: float64"
      ]
     },
     "metadata": {},
     "output_type": "display_data"
    },
    {
     "name": "stdout",
     "output_type": "stream",
     "text": [
      "........................\n",
      "La distribución de las categorías para la columna EDUCATIONFIELD\n"
     ]
    },
    {
     "data": {
      "text/plain": [
       "educationfield\n",
       "life sciences       0.216233\n",
       "medical             0.171004\n",
       "marketing           0.064436\n",
       "technical degree    0.042751\n",
       "other               0.036555\n",
       "human resources     0.007435\n",
       "Name: count, dtype: float64"
      ]
     },
     "metadata": {},
     "output_type": "display_data"
    },
    {
     "name": "stdout",
     "output_type": "stream",
     "text": [
      "........................\n",
      "La distribución de las categorías para la columna MARITALSTATUS\n"
     ]
    },
    {
     "data": {
      "text/plain": [
       "maritalstatus\n",
       "married     0.271995\n",
       "single      0.201363\n",
       "divorced    0.123296\n",
       "Name: count, dtype: float64"
      ]
     },
     "metadata": {},
     "output_type": "display_data"
    },
    {
     "name": "stdout",
     "output_type": "stream",
     "text": [
      "........................\n",
      "La distribución de las categorías para la columna OVERTIME\n"
     ]
    },
    {
     "data": {
      "text/plain": [
       "overtime\n",
       "no     0.422553\n",
       "yes    0.158612\n",
       "Name: count, dtype: float64"
      ]
     },
     "metadata": {},
     "output_type": "display_data"
    },
    {
     "name": "stdout",
     "output_type": "stream",
     "text": [
      "........................\n",
      "La distribución de las categorías para la columna STANDARDHOURS\n"
     ]
    },
    {
     "data": {
      "text/plain": [
       "standardhours\n",
       "part time    0.550186\n",
       "full time    0.240397\n",
       "Name: count, dtype: float64"
      ]
     },
     "metadata": {},
     "output_type": "display_data"
    },
    {
     "name": "stdout",
     "output_type": "stream",
     "text": [
      "........................\n"
     ]
    }
   ],
   "source": [
    "for col in nulos_esta_cat:\n",
    "    print(f\"La distribución de las categorías para la columna {col.upper()}\")\n",
    "    display(df[col].value_counts() / df.shape[0])  # display es una función utilizada para mostrar objetos de manera más legible en Jupyter Notebooks o entornos similares. \n",
    "    print(\"........................\")"
   ]
  },
  {
   "cell_type": "markdown",
   "metadata": {},
   "source": [
    "5. Clasificar las columnas."
   ]
  },
  {
   "cell_type": "code",
   "execution_count": 7,
   "metadata": {},
   "outputs": [],
   "source": [
    "columnas_moda = [\"overtime\", \"standardhours\" ]\n",
    "columnas_desconocido = ['department', 'educationfield', 'maritalstatus']"
   ]
  },
  {
   "cell_type": "markdown",
   "metadata": {},
   "source": [
    "6. Reemplazar por la moda."
   ]
  },
  {
   "cell_type": "code",
   "execution_count": 8,
   "metadata": {},
   "outputs": [
    {
     "name": "stdout",
     "output_type": "stream",
     "text": [
      "Después del reemplazo usando 'fillna' quedan los siguientes nulos\n"
     ]
    },
    {
     "data": {
      "text/plain": [
       "overtime         0\n",
       "standardhours    0\n",
       "dtype: int64"
      ]
     },
     "execution_count": 8,
     "metadata": {},
     "output_type": "execute_result"
    }
   ],
   "source": [
    "# iteramos por la lista creada en el paso anterior:\n",
    "for columna in columnas_moda:\n",
    "    \n",
    "    # calculamos la moda para la columna por la que estamos iterando\n",
    "    moda = df[columna].mode()[0]    \n",
    "    \n",
    "    # utilizando el método fillna reemplazamos los valores nulos por la moda calculada en el paso anterior. \n",
    "    df[columna] = df[columna].fillna(moda)\n",
    "\n",
    "# por último chequeamos si se han eliminado los nulos en las columnas de \"marital\" y \"loan\"\n",
    "print(\"Después del reemplazo usando 'fillna' quedan los siguientes nulos\")\n",
    "\n",
    "df[columnas_moda].isnull().sum()"
   ]
  },
  {
   "cell_type": "markdown",
   "metadata": {},
   "source": [
    "7. Reemplazar por None."
   ]
  },
  {
   "cell_type": "code",
   "execution_count": 9,
   "metadata": {},
   "outputs": [
    {
     "name": "stdout",
     "output_type": "stream",
     "text": [
      "Después del reemplazo usando 'fillna' quedan los siguientes nulos\n"
     ]
    },
    {
     "data": {
      "text/plain": [
       "department        0\n",
       "educationfield    0\n",
       "maritalstatus     0\n",
       "dtype: int64"
      ]
     },
     "execution_count": 9,
     "metadata": {},
     "output_type": "execute_result"
    }
   ],
   "source": [
    "# iteramos por la lista de columnas a las que le vamos a cambiar los nulos por \"None\"\n",
    "for columna in columnas_desconocido:\n",
    "    \n",
    "    # reemplazamos los nulos por el valor \"None\" para cada una de las columnas de la lista\n",
    "    df[columna] = df[columna].fillna(\"None\")\n",
    "    \n",
    "# comprobamos si quedan nulos en las columnas categóricas. \n",
    "print(\"Después del reemplazo usando 'fillna' quedan los siguientes nulos\")\n",
    "df[columnas_desconocido].isnull().sum()"
   ]
  },
  {
   "cell_type": "markdown",
   "metadata": {},
   "source": [
    "8. Identificar columnas numericas."
   ]
  },
  {
   "cell_type": "code",
   "execution_count": 10,
   "metadata": {},
   "outputs": [
    {
     "name": "stdout",
     "output_type": "stream",
     "text": [
      "Las columnas numéricas que tienen nulos son : \n",
      " \n",
      "Index(['$_hourlyrate', '$_monthlyincome', 'performancerating',\n",
      "       'totalworkingyears', 'worklifebalance', 'yearsincurrentrole',\n",
      "       '$_salary'],\n",
      "      dtype='object')\n"
     ]
    }
   ],
   "source": [
    "# Obtenemos la lista de columnas numericas que tienen nulos\n",
    "nulos_esta_num = df[df.columns[df.isnull().any()]].select_dtypes(include = np.number).columns\n",
    "print(\"Las columnas numéricas que tienen nulos son : \\n \")\n",
    "print(nulos_esta_num)"
   ]
  },
  {
   "cell_type": "markdown",
   "metadata": {},
   "source": [
    "9. Calcular el número de nulos en cada columna numerica"
   ]
  },
  {
   "cell_type": "code",
   "execution_count": 11,
   "metadata": {},
   "outputs": [
    {
     "name": "stdout",
     "output_type": "stream",
     "text": [
      "La distribución de las categorías para la columna $_HOURLYRATE\n"
     ]
    },
    {
     "data": {
      "text/plain": [
       "$_hourlyrate\n",
       "36.25     0.046468\n",
       "69.53     0.045849\n",
       "129.06    0.023544\n",
       "197.85    0.008674\n",
       "246.75    0.004957\n",
       "            ...   \n",
       "108.23    0.000620\n",
       "247.48    0.000620\n",
       "67.42     0.000620\n",
       "34.82     0.000620\n",
       "133.16    0.000620\n",
       "Name: count, Length: 194, dtype: float64"
      ]
     },
     "metadata": {},
     "output_type": "display_data"
    },
    {
     "name": "stdout",
     "output_type": "stream",
     "text": [
      "........................\n",
      "La distribución de las categorías para la columna $_MONTHLYINCOME\n"
     ]
    },
    {
     "data": {
      "text/plain": [
       "$_monthlyincome\n",
       "4492.84     0.138786\n",
       "2342.59     0.135688\n",
       "8339.32     0.060719\n",
       "12783.92    0.026022\n",
       "15943.72    0.014870\n",
       "              ...   \n",
       "4928.33     0.000620\n",
       "5538.33     0.000620\n",
       "11100.00    0.000620\n",
       "5572.50     0.000620\n",
       "2201.67     0.000620\n",
       "Name: count, Length: 493, dtype: float64"
      ]
     },
     "metadata": {},
     "output_type": "display_data"
    },
    {
     "name": "stdout",
     "output_type": "stream",
     "text": [
      "........................\n",
      "La distribución de las categorías para la columna PERFORMANCERATING\n"
     ]
    },
    {
     "data": {
      "text/plain": [
       "performancerating\n",
       "3.0    0.746592\n",
       "4.0    0.132590\n",
       "Name: count, dtype: float64"
      ]
     },
     "metadata": {},
     "output_type": "display_data"
    },
    {
     "name": "stdout",
     "output_type": "stream",
     "text": [
      "........................\n",
      "La distribución de las categorías para la columna TOTALWORKINGYEARS\n"
     ]
    },
    {
     "data": {
      "text/plain": [
       "totalworkingyears\n",
       "10.0    0.089219\n",
       "8.0     0.053284\n",
       "6.0     0.052045\n",
       "9.0     0.042751\n",
       "5.0     0.040892\n",
       "7.0     0.034696\n",
       "4.0     0.033457\n",
       "1.0     0.032838\n",
       "12.0    0.021066\n",
       "3.0     0.019827\n",
       "13.0    0.018587\n",
       "14.0    0.018587\n",
       "11.0    0.017968\n",
       "16.0    0.017348\n",
       "15.0    0.017348\n",
       "20.0    0.017348\n",
       "18.0    0.016729\n",
       "21.0    0.014250\n",
       "17.0    0.013631\n",
       "2.0     0.013011\n",
       "22.0    0.011152\n",
       "19.0    0.010533\n",
       "24.0    0.008674\n",
       "28.0    0.008055\n",
       "23.0    0.008055\n",
       "0.0     0.004957\n",
       "26.0    0.004957\n",
       "33.0    0.003717\n",
       "36.0    0.003717\n",
       "29.0    0.003717\n",
       "25.0    0.003717\n",
       "27.0    0.003098\n",
       "37.0    0.003098\n",
       "31.0    0.002478\n",
       "32.0    0.001859\n",
       "40.0    0.001859\n",
       "30.0    0.001859\n",
       "35.0    0.001859\n",
       "34.0    0.001239\n",
       "38.0    0.000620\n",
       "Name: count, dtype: float64"
      ]
     },
     "metadata": {},
     "output_type": "display_data"
    },
    {
     "name": "stdout",
     "output_type": "stream",
     "text": [
      "........................\n",
      "La distribución de las categorías para la columna WORKLIFEBALANCE\n"
     ]
    },
    {
     "data": {
      "text/plain": [
       "worklifebalance\n",
       "3.0    0.565675\n",
       "2.0    0.222429\n",
       "4.0    0.096035\n",
       "1.0    0.048947\n",
       "Name: count, dtype: float64"
      ]
     },
     "metadata": {},
     "output_type": "display_data"
    },
    {
     "name": "stdout",
     "output_type": "stream",
     "text": [
      "........................\n",
      "La distribución de las categorías para la columna YEARSINCURRENTROLE\n"
     ]
    },
    {
     "data": {
      "text/plain": [
       "yearsincurrentrole\n",
       "2.0     0.006815\n",
       "7.0     0.003098\n",
       "0.0     0.002478\n",
       "4.0     0.001859\n",
       "1.0     0.001859\n",
       "11.0    0.001239\n",
       "6.0     0.001239\n",
       "3.0     0.001239\n",
       "12.0    0.000620\n",
       "13.0    0.000620\n",
       "Name: count, dtype: float64"
      ]
     },
     "metadata": {},
     "output_type": "display_data"
    },
    {
     "name": "stdout",
     "output_type": "stream",
     "text": [
      "........................\n",
      "La distribución de las categorías para la columna $_SALARY\n"
     ]
    },
    {
     "data": {
      "text/plain": [
       "$_salary\n",
       "53914.11     0.161710\n",
       "28111.13     0.151177\n",
       "100071.84    0.071252\n",
       "153407.07    0.027881\n",
       "191324.62    0.016729\n",
       "               ...   \n",
       "49600.00     0.000620\n",
       "27410.00     0.000620\n",
       "132120.00    0.000620\n",
       "58280.00     0.000620\n",
       "67550.00     0.000620\n",
       "Name: count, Length: 583, dtype: float64"
      ]
     },
     "metadata": {},
     "output_type": "display_data"
    },
    {
     "name": "stdout",
     "output_type": "stream",
     "text": [
      "........................\n"
     ]
    }
   ],
   "source": [
    "for col in nulos_esta_num:\n",
    "    print(f\"La distribución de las categorías para la columna {col.upper()}\")\n",
    "    display(df[col].value_counts() / df.shape[0])  # display es una función utilizada para mostrar objetos de manera más legible en Jupyter Notebooks o entornos similares. \n",
    "    print(\"........................\")"
   ]
  },
  {
   "cell_type": "code",
   "execution_count": 12,
   "metadata": {},
   "outputs": [
    {
     "data": {
      "text/plain": [
       "$_hourlyrate          0.749690\n",
       "$_monthlyincome       0.289963\n",
       "performancerating     0.120818\n",
       "totalworkingyears     0.325898\n",
       "worklifebalance       0.066914\n",
       "yearsincurrentrole    0.978934\n",
       "$_salary              0.169765\n",
       "dtype: float64"
      ]
     },
     "execution_count": 12,
     "metadata": {},
     "output_type": "execute_result"
    }
   ],
   "source": [
    "df[nulos_esta_num].isnull().sum() / df.shape[0]"
   ]
  },
  {
   "cell_type": "markdown",
   "metadata": {},
   "source": [
    "10. Revisar si dentro de las columnas donde tenemos nulos hay valores atípicos. \n",
    "`Para hacer esto lo mejor es usar graficas`."
   ]
  },
  {
   "cell_type": "code",
   "execution_count": 13,
   "metadata": {},
   "outputs": [
    {
     "data": {
      "image/png": "[encoded data removed]",
      "text/plain": [
       "<Figure size 2000x1000 with 7 Axes>"
      ]
     },
     "metadata": {},
     "output_type": "display_data"
    }
   ],
   "source": [
    "fig, axes = plt.subplots(nrows = 4, ncols = 2, figsize = (20,10)) \n",
    "\n",
    "axes = axes.flat\n",
    "\n",
    "for indice, col in enumerate(nulos_esta_num):\n",
    "    sns.boxplot(x = col, data = df, ax = axes[indice])\n",
    "    \n",
    "plt.tight_layout()\n",
    "fig.delaxes(axes[-1]);"
   ]
  },
  {
   "cell_type": "markdown",
   "metadata": {},
   "source": [
    "* Los OUTLIERS son todos aquellos puntos que se ven más allá de los bigotes de las gráficas, por lo tanto, tenemos valores atípicos en las columnas de `$_hourlyrate`, `$_monthlyincome`, `performancerating`, `totalworkingyears`, `$_salary`. Las columnas tienen valores atípicos por lo que optaremos por reemplazar los nulos con métodos más avanzados como KNNImputer o IterativeImputer. \n",
    "\n",
    "* Los porcentajes de valores nulos en las columnas worklifebalance y yearsincurrentrole son bastante altos:\n",
    "   ** worklifebalance: 6.69%\n",
    "   ** yearsincurrentrole: 97.89%\n",
    "\n",
    "* Para yearsincurrentrole, debido al alto porcentaje de nulos, es posible que esta columna no sea útil para el análisis. Considera eliminar esta columna si no es esencial.\n",
    "\n",
    "* Aunque el porcentaje de nulos en worklifebalances es menor que en yearsincurrentrole, sigue siendo significativo."
   ]
  },
  {
   "cell_type": "markdown",
   "metadata": {},
   "source": [
    "11. Realizar una copia para hacer una conparativa con la estadistica del archivo original."
   ]
  },
  {
   "cell_type": "code",
   "execution_count": 14,
   "metadata": {},
   "outputs": [
    {
     "data": {
      "text/html": [
       "<div>\n",
       "<style scoped>\n",
       "    .dataframe tbody tr th:only-of-type {\n",
       "        vertical-align: middle;\n",
       "    }\n",
       "\n",
       "    .dataframe tbody tr th {\n",
       "        vertical-align: top;\n",
       "    }\n",
       "\n",
       "    .dataframe thead th {\n",
       "        text-align: right;\n",
       "    }\n",
       "</style>\n",
       "<table border=\"1\" class=\"dataframe\">\n",
       "  <thead>\n",
       "    <tr style=\"text-align: right;\">\n",
       "      <th></th>\n",
       "      <th>employee_id</th>\n",
       "      <th>age</th>\n",
       "      <th>attrition</th>\n",
       "      <th>businesstravel</th>\n",
       "      <th>$_dailyrate</th>\n",
       "      <th>department</th>\n",
       "      <th>distancefromhome</th>\n",
       "      <th>education</th>\n",
       "      <th>educationfield</th>\n",
       "      <th>environmentsatisfaction</th>\n",
       "      <th>gender</th>\n",
       "      <th>$_hourlyrate</th>\n",
       "      <th>jobinvolvement</th>\n",
       "      <th>joblevel</th>\n",
       "      <th>jobrole</th>\n",
       "      <th>jobsatisfaction</th>\n",
       "      <th>maritalstatus</th>\n",
       "      <th>$_monthlyincome</th>\n",
       "      <th>$_monthlyrate</th>\n",
       "      <th>numcompaniesworked</th>\n",
       "      <th>overtime</th>\n",
       "      <th>%_percentsalaryhike</th>\n",
       "      <th>performancerating</th>\n",
       "      <th>relationshipsatisfaction</th>\n",
       "      <th>standardhours</th>\n",
       "      <th>stockoptionlevel</th>\n",
       "      <th>totalworkingyears</th>\n",
       "      <th>trainingtimeslastyear</th>\n",
       "      <th>worklifebalance</th>\n",
       "      <th>yearsatcompany</th>\n",
       "      <th>yearsincurrentrole</th>\n",
       "      <th>yearssincelastpromotion</th>\n",
       "      <th>yearswithcurrmanager</th>\n",
       "      <th>datebirth</th>\n",
       "      <th>$_salary</th>\n",
       "      <th>remotework</th>\n",
       "    </tr>\n",
       "  </thead>\n",
       "  <tbody>\n",
       "    <tr>\n",
       "      <th>1457</th>\n",
       "      <td>1458</td>\n",
       "      <td>56</td>\n",
       "      <td>No</td>\n",
       "      <td>travel_rarely</td>\n",
       "      <td>556.26</td>\n",
       "      <td>None</td>\n",
       "      <td>11</td>\n",
       "      <td>5</td>\n",
       "      <td>None</td>\n",
       "      <td>4</td>\n",
       "      <td>female</td>\n",
       "      <td>NaN</td>\n",
       "      <td>2</td>\n",
       "      <td>2</td>\n",
       "      <td>sales executive</td>\n",
       "      <td>1</td>\n",
       "      <td>married</td>\n",
       "      <td>4492.84</td>\n",
       "      <td>11681.39</td>\n",
       "      <td>4</td>\n",
       "      <td>no</td>\n",
       "      <td>16</td>\n",
       "      <td>3.0</td>\n",
       "      <td>3</td>\n",
       "      <td>part time</td>\n",
       "      <td>1</td>\n",
       "      <td>NaN</td>\n",
       "      <td>3</td>\n",
       "      <td>3.0</td>\n",
       "      <td>0</td>\n",
       "      <td>NaN</td>\n",
       "      <td>0</td>\n",
       "      <td>0</td>\n",
       "      <td>1967</td>\n",
       "      <td>53914.11</td>\n",
       "      <td>yes</td>\n",
       "    </tr>\n",
       "    <tr>\n",
       "      <th>256</th>\n",
       "      <td>257</td>\n",
       "      <td>31</td>\n",
       "      <td>No</td>\n",
       "      <td>non_travel</td>\n",
       "      <td>556.26</td>\n",
       "      <td>research &amp; development</td>\n",
       "      <td>1</td>\n",
       "      <td>3</td>\n",
       "      <td>life sciences</td>\n",
       "      <td>4</td>\n",
       "      <td>male</td>\n",
       "      <td>69.53</td>\n",
       "      <td>1</td>\n",
       "      <td>2</td>\n",
       "      <td>research scientist</td>\n",
       "      <td>1</td>\n",
       "      <td>married</td>\n",
       "      <td>4492.84</td>\n",
       "      <td>11681.39</td>\n",
       "      <td>1</td>\n",
       "      <td>no</td>\n",
       "      <td>21</td>\n",
       "      <td>NaN</td>\n",
       "      <td>2</td>\n",
       "      <td>part time</td>\n",
       "      <td>0</td>\n",
       "      <td>10.0</td>\n",
       "      <td>6</td>\n",
       "      <td>3.0</td>\n",
       "      <td>10</td>\n",
       "      <td>NaN</td>\n",
       "      <td>8</td>\n",
       "      <td>7</td>\n",
       "      <td>1992</td>\n",
       "      <td>53914.11</td>\n",
       "      <td>yes</td>\n",
       "    </tr>\n",
       "  </tbody>\n",
       "</table>\n",
       "</div>"
      ],
      "text/plain": [
       "      employee_id  age attrition businesstravel  $_dailyrate  \\\n",
       "1457         1458   56        No  travel_rarely       556.26   \n",
       "256           257   31        No     non_travel       556.26   \n",
       "\n",
       "                    department  distancefromhome  education educationfield  \\\n",
       "1457                      None                11          5           None   \n",
       "256    research & development                  1          3  life sciences   \n",
       "\n",
       "      environmentsatisfaction  gender  $_hourlyrate  jobinvolvement  joblevel  \\\n",
       "1457                        4  female           NaN               2         2   \n",
       "256                         4    male         69.53               1         2   \n",
       "\n",
       "                   jobrole  jobsatisfaction maritalstatus  $_monthlyincome  \\\n",
       "1457      sales executive                 1       married          4492.84   \n",
       "256    research scientist                 1       married          4492.84   \n",
       "\n",
       "      $_monthlyrate  numcompaniesworked overtime  %_percentsalaryhike  \\\n",
       "1457       11681.39                   4       no                   16   \n",
       "256        11681.39                   1       no                   21   \n",
       "\n",
       "      performancerating  relationshipsatisfaction standardhours  \\\n",
       "1457                3.0                         3     part time   \n",
       "256                 NaN                         2     part time   \n",
       "\n",
       "      stockoptionlevel  totalworkingyears  trainingtimeslastyear  \\\n",
       "1457                 1                NaN                      3   \n",
       "256                  0               10.0                      6   \n",
       "\n",
       "      worklifebalance  yearsatcompany  yearsincurrentrole  \\\n",
       "1457              3.0               0                 NaN   \n",
       "256               3.0              10                 NaN   \n",
       "\n",
       "      yearssincelastpromotion  yearswithcurrmanager  datebirth  $_salary  \\\n",
       "1457                        0                     0       1967  53914.11   \n",
       "256                         8                     7       1992  53914.11   \n",
       "\n",
       "     remotework  \n",
       "1457        yes  \n",
       "256         yes  "
      ]
     },
     "execution_count": 14,
     "metadata": {},
     "output_type": "execute_result"
    }
   ],
   "source": [
    "df_final = df.copy()\n",
    "df_final.sample(2)"
   ]
  },
  {
   "cell_type": "markdown",
   "metadata": {},
   "source": [
    "12. Para yearsincurrentrole, debido al alto porcentaje de nulos, no se considera eliminar esta columna, se remplazara por None."
   ]
  },
  {
   "cell_type": "code",
   "execution_count": 15,
   "metadata": {},
   "outputs": [
    {
     "name": "stdout",
     "output_type": "stream",
     "text": [
      "Después del reemplazo usando 'fillna' quedan los siguientes nulos\n"
     ]
    },
    {
     "data": {
      "text/plain": [
       "np.int64(0)"
      ]
     },
     "execution_count": 15,
     "metadata": {},
     "output_type": "execute_result"
    }
   ],
   "source": [
    "# reemplazamos los nulos por el valor \"None\" para cada una de las filas de la columna\n",
    "df_final[\"yearsincurrentrole\"] = df_final[\"yearsincurrentrole\"].fillna(\"None\")\n",
    "    \n",
    "# comprobamos si quedan nulos en la columna. \n",
    "print(\"Después del reemplazo usando 'fillna' quedan los siguientes nulos\")\n",
    "df_final[\"yearsincurrentrole\"].isnull().sum()"
   ]
  },
  {
   "cell_type": "markdown",
   "metadata": {},
   "source": [
    "13. Por lo antes dicho, se toma al INTERATIVEIMPUTER como metodo avanzado para reemplazar los nulos."
   ]
  },
  {
   "cell_type": "code",
   "execution_count": 16,
   "metadata": {},
   "outputs": [
    {
     "data": {
      "text/plain": [
       "array([[2.51967241e+02, 1.62808300e+04, 3.00000000e+00, 3.00372319e+01,\n",
       "        3.00000000e+00, 1.95370000e+05],\n",
       "       [2.57925812e+02, 1.71135630e+04, 3.00000000e+00, 3.40000000e+01,\n",
       "        3.00000000e+00, 1.99990000e+05],\n",
       "       [2.48033352e+02, 1.64648491e+04, 3.00000000e+00, 2.20000000e+01,\n",
       "        2.80232575e+00, 1.92320000e+05],\n",
       "       ...,\n",
       "       [1.29060332e+02, 8.66226353e+03, 3.00000000e+00, 9.00000000e+00,\n",
       "        3.00000000e+00, 1.00071840e+05],\n",
       "       [6.95307819e+01, 4.49284000e+03, 3.15420498e+00, 1.20000000e+01,\n",
       "        3.00000000e+00, 5.39141100e+04],\n",
       "       [1.39865977e+02, 9.03750000e+03, 3.00000000e+00, 1.76799131e+01,\n",
       "        3.00000000e+00, 1.08450000e+05]], shape=(1614, 6))"
      ]
     },
     "execution_count": 16,
     "metadata": {},
     "output_type": "execute_result"
    }
   ],
   "source": [
    "imputer_iterative = IterativeImputer(max_iter = 20, random_state = 42) #max_iter=20 especifica el número máximo de iteraciones/ random_state=42 asegura la reproducibilidad de los resultados.\n",
    "\n",
    "# fit_transform() ajusta el modelo IterativeImputer a los datos seleccionados y luego transforma los datos imputando los valores faltantes.\n",
    "imputer_iterative_imputado = imputer_iterative.fit_transform(df_final[['$_hourlyrate', '$_monthlyincome', 'performancerating', 'totalworkingyears', 'worklifebalance', '$_salary']])\n",
    "\n",
    "# comprobamos que es lo que nos devuelve, que en este caso es un array también\n",
    "imputer_iterative_imputado"
   ]
  },
  {
   "cell_type": "markdown",
   "metadata": {},
   "source": [
    "14. Se comprueba si tenemos nulos."
   ]
  },
  {
   "cell_type": "code",
   "execution_count": 17,
   "metadata": {},
   "outputs": [
    {
     "name": "stdout",
     "output_type": "stream",
     "text": [
      "Después del 'Iterative' tenemos: \n",
      "$_hourlyrate         0\n",
      "$_monthlyincome      0\n",
      "performancerating    0\n",
      "totalworkingyears    0\n",
      "worklifebalance      0\n",
      "$_salary             0\n",
      "dtype: int64 nulos\n"
     ]
    }
   ],
   "source": [
    "df_final[['$_hourlyrate', '$_monthlyincome', 'performancerating', 'totalworkingyears', 'worklifebalance', '$_salary']] = imputer_iterative_imputado\n",
    "\n",
    "# comprobamos los nulos\n",
    "print(f\"Después del 'Iterative' tenemos: \\n{df_final[['$_hourlyrate', '$_monthlyincome', 'performancerating', 'totalworkingyears', 'worklifebalance', '$_salary']].isnull().sum()} nulos\")"
   ]
  },
  {
   "cell_type": "markdown",
   "metadata": {},
   "source": [
    "15. Comparación de estadistica."
   ]
  },
  {
   "cell_type": "code",
   "execution_count": 18,
   "metadata": {},
   "outputs": [
    {
     "data": {
      "text/html": [
       "<div>\n",
       "<style scoped>\n",
       "    .dataframe tbody tr th:only-of-type {\n",
       "        vertical-align: middle;\n",
       "    }\n",
       "\n",
       "    .dataframe tbody tr th {\n",
       "        vertical-align: top;\n",
       "    }\n",
       "\n",
       "    .dataframe thead th {\n",
       "        text-align: right;\n",
       "    }\n",
       "</style>\n",
       "<table border=\"1\" class=\"dataframe\">\n",
       "  <thead>\n",
       "    <tr style=\"text-align: right;\">\n",
       "      <th></th>\n",
       "      <th>$_hourlyrate</th>\n",
       "      <th>$_monthlyincome</th>\n",
       "      <th>performancerating</th>\n",
       "      <th>totalworkingyears</th>\n",
       "      <th>worklifebalance</th>\n",
       "      <th>$_salary</th>\n",
       "    </tr>\n",
       "  </thead>\n",
       "  <tbody>\n",
       "    <tr>\n",
       "      <th>count</th>\n",
       "      <td>1614.000000</td>\n",
       "      <td>1614.000000</td>\n",
       "      <td>1614.000000</td>\n",
       "      <td>1614.000000</td>\n",
       "      <td>1614.000000</td>\n",
       "      <td>1614.000000</td>\n",
       "    </tr>\n",
       "    <tr>\n",
       "      <th>mean</th>\n",
       "      <td>84.043307</td>\n",
       "      <td>5709.878992</td>\n",
       "      <td>3.150839</td>\n",
       "      <td>11.419321</td>\n",
       "      <td>2.759417</td>\n",
       "      <td>65166.755068</td>\n",
       "    </tr>\n",
       "    <tr>\n",
       "      <th>std</th>\n",
       "      <td>55.732313</td>\n",
       "      <td>5680.146296</td>\n",
       "      <td>0.335680</td>\n",
       "      <td>7.456759</td>\n",
       "      <td>0.678701</td>\n",
       "      <td>43213.185709</td>\n",
       "    </tr>\n",
       "    <tr>\n",
       "      <th>min</th>\n",
       "      <td>13.010000</td>\n",
       "      <td>1000.000000</td>\n",
       "      <td>3.000000</td>\n",
       "      <td>-31.835675</td>\n",
       "      <td>1.000000</td>\n",
       "      <td>10090.000000</td>\n",
       "    </tr>\n",
       "    <tr>\n",
       "      <th>25%</th>\n",
       "      <td>36.252663</td>\n",
       "      <td>2467.479016</td>\n",
       "      <td>3.000000</td>\n",
       "      <td>6.258229</td>\n",
       "      <td>2.000000</td>\n",
       "      <td>28111.130000</td>\n",
       "    </tr>\n",
       "    <tr>\n",
       "      <th>50%</th>\n",
       "      <td>69.530662</td>\n",
       "      <td>4492.840000</td>\n",
       "      <td>3.000000</td>\n",
       "      <td>10.000000</td>\n",
       "      <td>3.000000</td>\n",
       "      <td>53914.110000</td>\n",
       "    </tr>\n",
       "    <tr>\n",
       "      <th>75%</th>\n",
       "      <td>107.268103</td>\n",
       "      <td>8008.540000</td>\n",
       "      <td>3.118313</td>\n",
       "      <td>15.000000</td>\n",
       "      <td>3.000000</td>\n",
       "      <td>83174.529201</td>\n",
       "    </tr>\n",
       "    <tr>\n",
       "      <th>max</th>\n",
       "      <td>275.542095</td>\n",
       "      <td>94083.000000</td>\n",
       "      <td>4.000000</td>\n",
       "      <td>40.000000</td>\n",
       "      <td>4.000000</td>\n",
       "      <td>213649.716958</td>\n",
       "    </tr>\n",
       "  </tbody>\n",
       "</table>\n",
       "</div>"
      ],
      "text/plain": [
       "       $_hourlyrate  $_monthlyincome  performancerating  totalworkingyears  \\\n",
       "count   1614.000000      1614.000000        1614.000000        1614.000000   \n",
       "mean      84.043307      5709.878992           3.150839          11.419321   \n",
       "std       55.732313      5680.146296           0.335680           7.456759   \n",
       "min       13.010000      1000.000000           3.000000         -31.835675   \n",
       "25%       36.252663      2467.479016           3.000000           6.258229   \n",
       "50%       69.530662      4492.840000           3.000000          10.000000   \n",
       "75%      107.268103      8008.540000           3.118313          15.000000   \n",
       "max      275.542095     94083.000000           4.000000          40.000000   \n",
       "\n",
       "       worklifebalance       $_salary  \n",
       "count      1614.000000    1614.000000  \n",
       "mean          2.759417   65166.755068  \n",
       "std           0.678701   43213.185709  \n",
       "min           1.000000   10090.000000  \n",
       "25%           2.000000   28111.130000  \n",
       "50%           3.000000   53914.110000  \n",
       "75%           3.000000   83174.529201  \n",
       "max           4.000000  213649.716958  "
      ]
     },
     "execution_count": 18,
     "metadata": {},
     "output_type": "execute_result"
    }
   ],
   "source": [
    "df_final.describe()[['$_hourlyrate', '$_monthlyincome', 'performancerating', 'totalworkingyears', 'worklifebalance', '$_salary']]"
   ]
  },
  {
   "cell_type": "code",
   "execution_count": 19,
   "metadata": {},
   "outputs": [
    {
     "data": {
      "text/html": [
       "<div>\n",
       "<style scoped>\n",
       "    .dataframe tbody tr th:only-of-type {\n",
       "        vertical-align: middle;\n",
       "    }\n",
       "\n",
       "    .dataframe tbody tr th {\n",
       "        vertical-align: top;\n",
       "    }\n",
       "\n",
       "    .dataframe thead th {\n",
       "        text-align: right;\n",
       "    }\n",
       "</style>\n",
       "<table border=\"1\" class=\"dataframe\">\n",
       "  <thead>\n",
       "    <tr style=\"text-align: right;\">\n",
       "      <th></th>\n",
       "      <th>$_hourlyrate</th>\n",
       "      <th>$_monthlyincome</th>\n",
       "      <th>performancerating</th>\n",
       "      <th>totalworkingyears</th>\n",
       "      <th>worklifebalance</th>\n",
       "      <th>$_salary</th>\n",
       "    </tr>\n",
       "  </thead>\n",
       "  <tbody>\n",
       "    <tr>\n",
       "      <th>count</th>\n",
       "      <td>404.000000</td>\n",
       "      <td>1146.000000</td>\n",
       "      <td>1419.00000</td>\n",
       "      <td>1088.000000</td>\n",
       "      <td>1506.000000</td>\n",
       "      <td>1340.000000</td>\n",
       "    </tr>\n",
       "    <tr>\n",
       "      <th>mean</th>\n",
       "      <td>83.042302</td>\n",
       "      <td>5697.600227</td>\n",
       "      <td>3.15081</td>\n",
       "      <td>11.318934</td>\n",
       "      <td>2.759628</td>\n",
       "      <td>65245.875313</td>\n",
       "    </tr>\n",
       "    <tr>\n",
       "      <th>std</th>\n",
       "      <td>57.548806</td>\n",
       "      <td>6234.554870</td>\n",
       "      <td>0.35799</td>\n",
       "      <td>7.727675</td>\n",
       "      <td>0.702622</td>\n",
       "      <td>45933.029687</td>\n",
       "    </tr>\n",
       "    <tr>\n",
       "      <th>min</th>\n",
       "      <td>13.010000</td>\n",
       "      <td>1000.000000</td>\n",
       "      <td>3.00000</td>\n",
       "      <td>0.000000</td>\n",
       "      <td>1.000000</td>\n",
       "      <td>10090.000000</td>\n",
       "    </tr>\n",
       "    <tr>\n",
       "      <th>25%</th>\n",
       "      <td>36.250000</td>\n",
       "      <td>2342.590000</td>\n",
       "      <td>3.00000</td>\n",
       "      <td>6.000000</td>\n",
       "      <td>2.000000</td>\n",
       "      <td>28111.130000</td>\n",
       "    </tr>\n",
       "    <tr>\n",
       "      <th>50%</th>\n",
       "      <td>69.530000</td>\n",
       "      <td>4492.840000</td>\n",
       "      <td>3.00000</td>\n",
       "      <td>10.000000</td>\n",
       "      <td>3.000000</td>\n",
       "      <td>53914.110000</td>\n",
       "    </tr>\n",
       "    <tr>\n",
       "      <th>75%</th>\n",
       "      <td>114.160000</td>\n",
       "      <td>7861.670000</td>\n",
       "      <td>3.00000</td>\n",
       "      <td>15.000000</td>\n",
       "      <td>3.000000</td>\n",
       "      <td>94607.500000</td>\n",
       "    </tr>\n",
       "    <tr>\n",
       "      <th>max</th>\n",
       "      <td>255.960000</td>\n",
       "      <td>94083.000000</td>\n",
       "      <td>4.00000</td>\n",
       "      <td>40.000000</td>\n",
       "      <td>4.000000</td>\n",
       "      <td>199990.000000</td>\n",
       "    </tr>\n",
       "  </tbody>\n",
       "</table>\n",
       "</div>"
      ],
      "text/plain": [
       "       $_hourlyrate  $_monthlyincome  performancerating  totalworkingyears  \\\n",
       "count    404.000000      1146.000000         1419.00000        1088.000000   \n",
       "mean      83.042302      5697.600227            3.15081          11.318934   \n",
       "std       57.548806      6234.554870            0.35799           7.727675   \n",
       "min       13.010000      1000.000000            3.00000           0.000000   \n",
       "25%       36.250000      2342.590000            3.00000           6.000000   \n",
       "50%       69.530000      4492.840000            3.00000          10.000000   \n",
       "75%      114.160000      7861.670000            3.00000          15.000000   \n",
       "max      255.960000     94083.000000            4.00000          40.000000   \n",
       "\n",
       "       worklifebalance       $_salary  \n",
       "count      1506.000000    1340.000000  \n",
       "mean          2.759628   65245.875313  \n",
       "std           0.702622   45933.029687  \n",
       "min           1.000000   10090.000000  \n",
       "25%           2.000000   28111.130000  \n",
       "50%           3.000000   53914.110000  \n",
       "75%           3.000000   94607.500000  \n",
       "max           4.000000  199990.000000  "
      ]
     },
     "execution_count": 19,
     "metadata": {},
     "output_type": "execute_result"
    }
   ],
   "source": [
    "df.describe()[['$_hourlyrate', '$_monthlyincome', 'performancerating', 'totalworkingyears', 'worklifebalance', '$_salary']]"
   ]
  },
  {
   "cell_type": "code",
   "execution_count": null,
   "metadata": {},
   "outputs": [],
   "source": [
    "df_final.to_csv(\"df_final.csv\")"
   ]
  },
  {
   "cell_type": "code",
   "execution_count": null,
   "metadata": {},
   "outputs": [],
   "source": [
    "df_final.to_excel(\"df_final.xlsx\")"
   ]
  }
 ],
 "metadata": {
  "kernelspec": {
   "display_name": "Python 3",
   "language": "python",
   "name": "python3"
  },
  "language_info": {
   "codemirror_mode": {
    "name": "ipython",
    "version": 3
   },
   "file_extension": ".py",
   "mimetype": "text/x-python",
   "name": "python",
   "nbconvert_exporter": "python",
   "pygments_lexer": "ipython3",
   "version": "3.11.9"
  }
 },
 "nbformat": 4,
 "nbformat_minor": 2
}
